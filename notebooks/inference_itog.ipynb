{
 "cells": [
  {
   "cell_type": "code",
   "execution_count": null,
   "id": "1b75bbba-17f0-4d10-8f6b-7d3c63083b04",
   "metadata": {
    "execution": {
     "iopub.execute_input": "2023-11-25T05:15:44.685431Z",
     "iopub.status.busy": "2023-11-25T05:15:44.684506Z",
     "iopub.status.idle": "2023-11-25T05:15:49.097970Z",
     "shell.execute_reply": "2023-11-25T05:15:49.096971Z",
     "shell.execute_reply.started": "2023-11-25T05:15:44.685392Z"
    },
    "tags": []
   },
   "outputs": [],
   "source": [
    "from transformers import set_seed\n",
    "\n",
    "set_seed(228)"
   ]
  },
  {
   "cell_type": "code",
   "execution_count": null,
   "id": "3e09553c-b620-4074-819f-7cc91e48d634",
   "metadata": {
    "execution": {
     "iopub.execute_input": "2023-11-25T05:15:49.100125Z",
     "iopub.status.busy": "2023-11-25T05:15:49.099237Z",
     "iopub.status.idle": "2023-11-25T05:15:49.113384Z",
     "shell.execute_reply": "2023-11-25T05:15:49.112529Z",
     "shell.execute_reply.started": "2023-11-25T05:15:49.100081Z"
    },
    "tags": []
   },
   "outputs": [],
   "source": [
    "import pickle\n",
    "\n",
    "with open('stared.dict', 'rb') as fin:\n",
    "    stared_dict = pickle.load(fin)\n",
    "    \n",
    "with open('theme_to_group_dict.dict', 'rb') as fin:\n",
    "    theme_to_group_dict = pickle.load(fin)"
   ]
  },
  {
   "cell_type": "code",
   "execution_count": null,
   "id": "d798286c-8580-4157-95e3-1fd34d7210f9",
   "metadata": {
    "execution": {
     "iopub.execute_input": "2023-11-25T05:15:49.115437Z",
     "iopub.status.busy": "2023-11-25T05:15:49.114834Z",
     "iopub.status.idle": "2023-11-25T05:15:49.126619Z",
     "shell.execute_reply": "2023-11-25T05:15:49.125644Z",
     "shell.execute_reply.started": "2023-11-25T05:15:49.115408Z"
    },
    "tags": []
   },
   "outputs": [],
   "source": [
    "TRAIN_DF_PATH = 'preproc_dataset.csv'\n",
    "TEST_DF_PATH = 'test.csv'\n",
    "TEXT_COLUMN = 'Текст инцидента'\n",
    "\n",
    "TF_IDF_PATH = 'final_tf_idf.pkl'\n",
    "CLASSIFIER_PATH = 'final_model.pkl'"
   ]
  },
  {
   "cell_type": "code",
   "execution_count": null,
   "id": "4a949c40-bf3f-48f0-80d9-7f75b3dbfd2b",
   "metadata": {
    "execution": {
     "iopub.execute_input": "2023-11-25T05:15:49.128738Z",
     "iopub.status.busy": "2023-11-25T05:15:49.128008Z",
     "iopub.status.idle": "2023-11-25T05:15:49.459518Z",
     "shell.execute_reply": "2023-11-25T05:15:49.458355Z",
     "shell.execute_reply.started": "2023-11-25T05:15:49.128709Z"
    },
    "tags": []
   },
   "outputs": [],
   "source": [
    "import pandas as pd\n",
    "\n",
    "dataset_df = pd.read_csv(TRAIN_DF_PATH)\n",
    "\n",
    "test_df = pd.read_csv(TEST_DF_PATH, sep=';')\n",
    "test_df['text'] = test_df[TEXT_COLUMN].apply(lambda x: x[1:] if x[0] == \"'\" else x)\n",
    "test_df.text = test_df.text.map(lambda x: x[:768])\n",
    "test_df.head()"
   ]
  },
  {
   "cell_type": "code",
   "execution_count": null,
   "id": "3bd8c5cb-ff5c-4403-8328-17cb44d5b48e",
   "metadata": {
    "execution": {
     "iopub.execute_input": "2023-11-25T05:15:49.461004Z",
     "iopub.status.busy": "2023-11-25T05:15:49.460563Z",
     "iopub.status.idle": "2023-11-25T05:15:49.478880Z",
     "shell.execute_reply": "2023-11-25T05:15:49.478101Z",
     "shell.execute_reply.started": "2023-11-25T05:15:49.460966Z"
    },
    "tags": []
   },
   "outputs": [],
   "source": [
    "id2label = {k: v for k, v in enumerate(dataset_df.theme.unique())}\n",
    "label2id = {v: k for k, v in id2label.items()}"
   ]
  },
  {
   "cell_type": "code",
   "execution_count": null,
   "id": "7de738fa-f1cc-415a-821e-a5d99361f221",
   "metadata": {
    "execution": {
     "iopub.execute_input": "2023-11-25T05:15:49.480882Z",
     "iopub.status.busy": "2023-11-25T05:15:49.479981Z",
     "iopub.status.idle": "2023-11-25T05:15:49.856927Z",
     "shell.execute_reply": "2023-11-25T05:15:49.856060Z",
     "shell.execute_reply.started": "2023-11-25T05:15:49.480839Z"
    },
    "tags": []
   },
   "outputs": [],
   "source": [
    "from datasets import Dataset\n",
    "\n",
    "test_dataset = Dataset.from_pandas(test_df[['text']])"
   ]
  },
  {
   "cell_type": "code",
   "execution_count": null,
   "id": "b3cd4d75-c480-42e8-b552-f5fceba735c6",
   "metadata": {
    "execution": {
     "iopub.execute_input": "2023-11-25T05:15:49.859236Z",
     "iopub.status.busy": "2023-11-25T05:15:49.858129Z",
     "iopub.status.idle": "2023-11-25T05:15:50.336438Z",
     "shell.execute_reply": "2023-11-25T05:15:50.335451Z",
     "shell.execute_reply.started": "2023-11-25T05:15:49.859189Z"
    },
    "tags": []
   },
   "outputs": [],
   "source": [
    "import torch\n",
    "from tqdm.notebook import tqdm\n",
    "from transformers import AutoTokenizer\n",
    "from transformers import AutoModelForSequenceClassification\n",
    "\n",
    "\n",
    "BATCH_SIZE = 8\n",
    "\n",
    "def batch_iter(iterable, n=1):\n",
    "    l = len(iterable)\n",
    "    it = iter(iterable)\n",
    "    temp = []\n",
    "\n",
    "    for ndx in range(0, l):\n",
    "        temp.append(next(it))\n",
    "        if len(temp) == n:\n",
    "            yield temp.copy()\n",
    "            temp.clear()\n",
    "\n",
    "    if temp:\n",
    "        yield temp\n",
    "\n",
    "def get_logits(model_path):\n",
    "    train_logits = []\n",
    "    test_logits = []\n",
    "    all_trues = []\n",
    "    tokenizer = AutoTokenizer.from_pretrained(model_path)\n",
    "    model = AutoModelForSequenceClassification.from_pretrained(model_path)\n",
    "    model.to('cuda')\n",
    "\n",
    "    model.eval()\n",
    "    with torch.no_grad():\n",
    "        for batch in tqdm(batch_iter(test_dataset, BATCH_SIZE), total=len(test_dataset) // BATCH_SIZE):\n",
    "            texts = [b['text'] for b in batch]\n",
    "            tokenized = tokenizer(texts, return_tensors='pt', truncation=True, padding=True).to('cuda')\n",
    "            batch_logits = model(**tokenized).logits.cpu()\n",
    "            # batch_pred_ids = batch_logits.argmax(axis=1).numpy()\n",
    "            # pred_labels = [model.config.id2label[label_id] for label_id in batch_pred_ids]\n",
    "            test_logits.extend(batch_logits.numpy())\n",
    "            #all_trues.extend([id2label[b['labels']] for b in batch])\n",
    "    return test_logits"
   ]
  },
  {
   "cell_type": "code",
   "execution_count": null,
   "id": "7f705907-1a72-40f3-b699-65a50ad90504",
   "metadata": {
    "execution": {
     "iopub.execute_input": "2023-11-25T05:15:50.339538Z",
     "iopub.status.busy": "2023-11-25T05:15:50.338796Z",
     "iopub.status.idle": "2023-11-25T05:16:06.287869Z",
     "shell.execute_reply": "2023-11-25T05:16:06.286589Z",
     "shell.execute_reply.started": "2023-11-25T05:15:50.339508Z"
    },
    "tags": []
   },
   "outputs": [],
   "source": [
    "test_logits_LaBSE = get_logits('LaBSE-en-ru_checkpoint-6795_GROUP-20231125T092338Z-001/LaBSE-en-ru_checkpoint-6795_GROUP')"
   ]
  },
  {
   "cell_type": "code",
   "execution_count": null,
   "id": "e7376372-d95a-4bc4-a5f0-458b94f83d92",
   "metadata": {
    "execution": {
     "iopub.execute_input": "2023-11-25T05:16:06.289846Z",
     "iopub.status.busy": "2023-11-25T05:16:06.289165Z",
     "iopub.status.idle": "2023-11-25T05:16:21.082536Z",
     "shell.execute_reply": "2023-11-25T05:16:21.081260Z",
     "shell.execute_reply.started": "2023-11-25T05:16:06.289814Z"
    },
    "tags": []
   },
   "outputs": [],
   "source": [
    "test_logits_LaBSE_theme = get_logits('checkpoint-5500')"
   ]
  },
  {
   "cell_type": "code",
   "execution_count": null,
   "id": "a959a6da-de23-48f2-9e6b-480faac05ddc",
   "metadata": {
    "execution": {
     "iopub.execute_input": "2023-11-25T05:16:35.806267Z",
     "iopub.status.busy": "2023-11-25T05:16:35.805440Z",
     "iopub.status.idle": "2023-11-25T05:16:35.874776Z",
     "shell.execute_reply": "2023-11-25T05:16:35.873950Z",
     "shell.execute_reply.started": "2023-11-25T05:16:35.806223Z"
    },
    "tags": []
   },
   "outputs": [],
   "source": [
    "X_test_1 = pd.DataFrame({\n",
    "    'text': test_dataset['text'],\n",
    "    'logits': test_logits_LaBSE\n",
    "})\n",
    "\n",
    "X_test_2 = pd.DataFrame({\n",
    "    'text': test_dataset['text'],\n",
    "    'logits': test_logits_LaBSE_theme\n",
    "})"
   ]
  },
  {
   "cell_type": "code",
   "execution_count": null,
   "id": "a2183a04-c1c5-4238-a4e8-fcf22d407f8f",
   "metadata": {
    "execution": {
     "iopub.execute_input": "2023-11-25T05:16:35.876482Z",
     "iopub.status.busy": "2023-11-25T05:16:35.875770Z",
     "iopub.status.idle": "2023-11-25T05:16:36.011130Z",
     "shell.execute_reply": "2023-11-25T05:16:36.010276Z",
     "shell.execute_reply.started": "2023-11-25T05:16:35.876450Z"
    },
    "tags": []
   },
   "outputs": [],
   "source": [
    "with open(TF_IDF_PATH, 'rb') as fin:\n",
    "    tfidf = pickle.load(fin)\n",
    "    \n",
    "with open(CLASSIFIER_PATH, 'rb') as fin:\n",
    "    classifier = pickle.load(fin)"
   ]
  },
  {
   "cell_type": "code",
   "execution_count": null,
   "id": "34ce8ea1-74cd-46b9-8e58-cbed5721313d",
   "metadata": {
    "execution": {
     "iopub.execute_input": "2023-11-25T05:16:36.012658Z",
     "iopub.status.busy": "2023-11-25T05:16:36.012134Z",
     "iopub.status.idle": "2023-11-25T05:16:36.364028Z",
     "shell.execute_reply": "2023-11-25T05:16:36.363070Z",
     "shell.execute_reply.started": "2023-11-25T05:16:36.012616Z"
    },
    "tags": []
   },
   "outputs": [],
   "source": [
    "from sklearn.feature_extraction.text import TfidfVectorizer\n",
    "from sklearn.linear_model import SGDClassifier\n",
    "from scipy.sparse import hstack as sparse_hstack\n",
    "from torch.nn.functional import softmax\n",
    "\n",
    "\n",
    "tfidf_test = tfidf.transform(X_test_1.text)\n",
    "test_features = sparse_hstack([tfidf_test, \n",
    "                               softmax(torch.tensor(X_test_1.logits.to_list()), dim=1).numpy(),\n",
    "                               softmax(torch.tensor(X_test_2.logits.to_list()), dim=1).numpy(),\n",
    "                              ])"
   ]
  },
  {
   "cell_type": "code",
   "execution_count": null,
   "id": "bd49de2b-fdac-401b-867d-34c646a1cf34",
   "metadata": {
    "execution": {
     "iopub.execute_input": "2023-11-25T05:16:36.365834Z",
     "iopub.status.busy": "2023-11-25T05:16:36.365072Z",
     "iopub.status.idle": "2023-11-25T05:16:36.632085Z",
     "shell.execute_reply": "2023-11-25T05:16:36.631205Z",
     "shell.execute_reply.started": "2023-11-25T05:16:36.365799Z"
    },
    "tags": []
   },
   "outputs": [],
   "source": [
    "y_pred = classifier.predict(test_features)"
   ]
  },
  {
   "cell_type": "code",
   "execution_count": null,
   "id": "7c22d858-b981-4424-a546-49354638ffdf",
   "metadata": {
    "execution": {
     "iopub.execute_input": "2023-11-25T05:16:36.883754Z",
     "iopub.status.busy": "2023-11-25T05:16:36.883074Z",
     "iopub.status.idle": "2023-11-25T05:16:37.048788Z",
     "shell.execute_reply": "2023-11-25T05:16:37.047908Z",
     "shell.execute_reply.started": "2023-11-25T05:16:36.883712Z"
    },
    "tags": []
   },
   "outputs": [],
   "source": [
    "submission_df = pd.read_csv(TEST_DF_PATH, sep=';')\n",
    "submission_df['Группа тем'] = [theme_to_group_dict[stared_dict.get(x, x)] for x in y_pred] \n",
    "submission_df['Тема'] = y_pred\n",
    "submission_df['Тема'] = submission_df['Тема'].apply(lambda x: x if x not in stared_dict else stared_dict[x])\n",
    "submission_df = submission_df.drop('Текст инцидента', axis=1)"
   ]
  },
  {
   "cell_type": "code",
   "execution_count": null,
   "id": "fc799c50-9106-4e3e-98ab-794f7e6bca69",
   "metadata": {},
   "outputs": [],
   "source": [
    "submission_df"
   ]
  },
  {
   "cell_type": "code",
   "execution_count": null,
   "outputs": [],
   "source": [
    "submission_df.to_csv('submission.csv', sep=';', index=False, encoding = 'utf-8')"
   ],
   "metadata": {
    "collapsed": false
   },
   "id": "85dd163074af39de"
  }
 ],
 "metadata": {
  "kernelspec": {
   "display_name": "DataSphere Kernel",
   "language": "python",
   "name": "python3"
  },
  "language_info": {
   "codemirror_mode": {
    "name": "ipython",
    "version": 3
   },
   "file_extension": ".py",
   "mimetype": "text/x-python",
   "name": "python",
   "nbconvert_exporter": "python",
   "pygments_lexer": "ipython3",
   "version": "3.7.7"
  }
 },
 "nbformat": 4,
 "nbformat_minor": 5
}
