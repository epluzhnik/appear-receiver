{
 "cells": [
  {
   "cell_type": "code",
   "execution_count": 1,
   "id": "dff8f77718519bdc",
   "metadata": {
    "collapsed": false,
    "execution": {
     "iopub.execute_input": "2023-11-25T05:00:21.608903Z",
     "iopub.status.busy": "2023-11-25T05:00:21.608094Z",
     "iopub.status.idle": "2023-11-25T05:00:21.659667Z",
     "shell.execute_reply": "2023-11-25T05:00:21.658332Z",
     "shell.execute_reply.started": "2023-11-25T05:00:21.608868Z"
    },
    "jupyter": {
     "outputs_hidden": false
    },
    "tags": []
   },
   "outputs": [],
   "source": [
    "import os\n",
    "\n",
    "os.environ['MLFLOW_EXPERIMENT_NAME'] = \"LingBizkit_experiment\"\n",
    "os.environ['MLFLOW_TRACKING_URI'] = \"http://79.137.194.156:5000/\""
   ]
  },
  {
   "cell_type": "code",
   "execution_count": 2,
   "id": "ba505d72306448a7",
   "metadata": {
    "collapsed": false,
    "execution": {
     "iopub.execute_input": "2023-11-25T05:00:21.738193Z",
     "iopub.status.busy": "2023-11-25T05:00:21.736911Z",
     "iopub.status.idle": "2023-11-25T05:00:48.000537Z",
     "shell.execute_reply": "2023-11-25T05:00:47.999197Z",
     "shell.execute_reply.started": "2023-11-25T05:00:21.738137Z"
    },
    "jupyter": {
     "outputs_hidden": false
    },
    "tags": []
   },
   "outputs": [
    {
     "name": "stderr",
     "output_type": "stream",
     "text": [
      "2023-11-25 05:00:42.249065: W tensorflow/compiler/tf2tensorrt/utils/py_utils.cc:38] TF-TRT Warning: Could not find TensorRT\n"
     ]
    }
   ],
   "source": [
    "from transformers import set_seed\n",
    "\n",
    "set_seed(228)"
   ]
  },
  {
   "cell_type": "code",
   "execution_count": 3,
   "id": "336d47cb03f7f988",
   "metadata": {
    "collapsed": false,
    "execution": {
     "iopub.execute_input": "2023-11-25T05:00:48.003365Z",
     "iopub.status.busy": "2023-11-25T05:00:48.002532Z",
     "iopub.status.idle": "2023-11-25T05:00:48.369060Z",
     "shell.execute_reply": "2023-11-25T05:00:48.367874Z",
     "shell.execute_reply.started": "2023-11-25T05:00:48.003328Z"
    },
    "jupyter": {
     "outputs_hidden": false
    },
    "tags": []
   },
   "outputs": [],
   "source": [
    "import pandas as pd\n",
    "\n",
    "dataset_df = pd.read_csv('preproc_dataset.csv')\n",
    "#dataset_df"
   ]
  },
  {
   "cell_type": "code",
   "execution_count": 4,
   "id": "b91bd29cbe543099",
   "metadata": {
    "collapsed": false,
    "execution": {
     "iopub.execute_input": "2023-11-25T05:00:48.371979Z",
     "iopub.status.busy": "2023-11-25T05:00:48.371354Z",
     "iopub.status.idle": "2023-11-25T05:00:48.404527Z",
     "shell.execute_reply": "2023-11-25T05:00:48.403268Z",
     "shell.execute_reply.started": "2023-11-25T05:00:48.371931Z"
    },
    "jupyter": {
     "outputs_hidden": false
    },
    "tags": []
   },
   "outputs": [],
   "source": [
    "dataset_df.text = dataset_df.text.map(lambda x: x[:768])"
   ]
  },
  {
   "cell_type": "code",
   "execution_count": 5,
   "id": "ce64b0989ca3a455",
   "metadata": {
    "collapsed": false,
    "execution": {
     "iopub.execute_input": "2023-11-25T05:00:48.406657Z",
     "iopub.status.busy": "2023-11-25T05:00:48.406066Z",
     "iopub.status.idle": "2023-11-25T05:00:48.438712Z",
     "shell.execute_reply": "2023-11-25T05:00:48.437671Z",
     "shell.execute_reply.started": "2023-11-25T05:00:48.406601Z"
    },
    "jupyter": {
     "outputs_hidden": false
    },
    "tags": []
   },
   "outputs": [],
   "source": [
    "id2label = {k: v for k, v in enumerate(dataset_df.theme.unique())}\n",
    "label2id = {v: k for k, v in id2label.items()}"
   ]
  },
  {
   "cell_type": "code",
   "execution_count": 6,
   "id": "ae5a63828fbfa269",
   "metadata": {
    "collapsed": false,
    "execution": {
     "iopub.execute_input": "2023-11-25T05:00:48.441033Z",
     "iopub.status.busy": "2023-11-25T05:00:48.440138Z",
     "iopub.status.idle": "2023-11-25T05:00:49.521023Z",
     "shell.execute_reply": "2023-11-25T05:00:49.519751Z",
     "shell.execute_reply.started": "2023-11-25T05:00:48.440936Z"
    },
    "jupyter": {
     "outputs_hidden": false
    },
    "tags": []
   },
   "outputs": [],
   "source": [
    "from datasets import Dataset\n",
    "\n",
    "temp_dataset_df = dataset_df.rename({'theme': 'labels'}, axis=1)\n",
    "temp_dataset_df.labels = temp_dataset_df.labels.map(lambda x: label2id[x])\n",
    "train_dataset = Dataset.from_pandas(temp_dataset_df[temp_dataset_df.sample_type == 'train'][['text', 'labels']])\n",
    "test_dataset = Dataset.from_pandas(temp_dataset_df[temp_dataset_df.sample_type == 'test'][['text', 'labels']])"
   ]
  },
  {
   "cell_type": "code",
   "execution_count": 7,
   "id": "66715021b9380b82",
   "metadata": {
    "collapsed": false,
    "execution": {
     "iopub.execute_input": "2023-11-25T05:00:49.523677Z",
     "iopub.status.busy": "2023-11-25T05:00:49.522376Z",
     "iopub.status.idle": "2023-11-25T05:00:50.793027Z",
     "shell.execute_reply": "2023-11-25T05:00:50.791940Z",
     "shell.execute_reply.started": "2023-11-25T05:00:49.523623Z"
    },
    "jupyter": {
     "outputs_hidden": false
    },
    "tags": []
   },
   "outputs": [],
   "source": [
    "from transformers import AutoTokenizer\n",
    "from transformers import AutoModelForSequenceClassification"
   ]
  },
  {
   "cell_type": "markdown",
   "id": "64e02aacacf0b80a",
   "metadata": {},
   "source": [
    "### Batch inference"
   ]
  },
  {
   "cell_type": "code",
   "execution_count": 8,
   "id": "4fdb48deed7a4521",
   "metadata": {
    "collapsed": false,
    "execution": {
     "iopub.execute_input": "2023-11-25T05:00:50.795097Z",
     "iopub.status.busy": "2023-11-25T05:00:50.794191Z",
     "iopub.status.idle": "2023-11-25T05:00:50.827316Z",
     "shell.execute_reply": "2023-11-25T05:00:50.826023Z",
     "shell.execute_reply.started": "2023-11-25T05:00:50.795047Z"
    },
    "jupyter": {
     "outputs_hidden": false
    },
    "tags": []
   },
   "outputs": [],
   "source": [
    "import torch\n",
    "from tqdm.notebook import tqdm\n",
    "\n",
    "BATCH_SIZE = 8\n",
    "\n",
    "def batch_iter(iterable, n=1):\n",
    "    l = len(iterable)\n",
    "    it = iter(iterable)\n",
    "    temp = []\n",
    "\n",
    "    for ndx in range(0, l):\n",
    "        temp.append(next(it))\n",
    "        if len(temp) == n:\n",
    "            yield temp.copy()\n",
    "            temp.clear()\n",
    "\n",
    "    if temp:\n",
    "        yield temp\n",
    "\n",
    "def get_logits(model_path):\n",
    "    train_logits = []\n",
    "    test_logits = []\n",
    "    all_trues = []\n",
    "    tokenizer = AutoTokenizer.from_pretrained(model_path)\n",
    "    model = AutoModelForSequenceClassification.from_pretrained(model_path)\n",
    "    model.to('cuda')\n",
    "\n",
    "    model.eval()\n",
    "    with torch.no_grad():\n",
    "        for batch in tqdm(batch_iter(train_dataset, BATCH_SIZE), total=len(train_dataset) // BATCH_SIZE):\n",
    "            texts = [b['text'] for b in batch]\n",
    "            tokenized = tokenizer(texts, return_tensors='pt', truncation=True, padding=True).to('cuda')\n",
    "            batch_logits = model(**tokenized).logits.cpu()\n",
    "            # batch_pred_ids = batch_logits.argmax(axis=1).numpy()\n",
    "            # pred_labels = [model.config.id2label[label_id] for label_id in batch_pred_ids]\n",
    "            train_logits.extend(batch_logits.numpy())\n",
    "            # all_trues.extend([id2label[b['labels']] for b in batch])\n",
    "\n",
    "        for batch in tqdm(batch_iter(test_dataset, BATCH_SIZE), total=len(test_dataset) // BATCH_SIZE):\n",
    "            texts = [b['text'] for b in batch]\n",
    "            tokenized = tokenizer(texts, return_tensors='pt', truncation=True, padding=True).to('cuda')\n",
    "            batch_logits = model(**tokenized).logits.cpu()\n",
    "            # batch_pred_ids = batch_logits.argmax(axis=1).numpy()\n",
    "            # pred_labels = [model.config.id2label[label_id] for label_id in batch_pred_ids]\n",
    "            test_logits.extend(batch_logits.numpy())\n",
    "            #all_trues.extend([id2label[b['labels']] for b in batch])\n",
    "    return train_logits, test_logits"
   ]
  },
  {
   "cell_type": "code",
   "execution_count": 9,
   "id": "aa755ee9-5df9-4ee5-8a2a-192da1b27647",
   "metadata": {
    "execution": {
     "iopub.execute_input": "2023-11-25T05:00:50.833026Z",
     "iopub.status.busy": "2023-11-25T05:00:50.832149Z",
     "iopub.status.idle": "2023-11-25T05:00:50.872812Z",
     "shell.execute_reply": "2023-11-25T05:00:50.871608Z",
     "shell.execute_reply.started": "2023-11-25T05:00:50.832984Z"
    },
    "tags": []
   },
   "outputs": [],
   "source": [
    "y_train = [id2label[lab] for lab in train_dataset['labels']]\n",
    "y_test = [id2label[lab] for lab in test_dataset['labels']]"
   ]
  },
  {
   "cell_type": "code",
   "execution_count": 10,
   "id": "2e16c523-7d95-47b7-ba1c-90e889b57183",
   "metadata": {
    "execution": {
     "iopub.execute_input": "2023-11-25T05:00:50.875761Z",
     "iopub.status.busy": "2023-11-25T05:00:50.874720Z",
     "iopub.status.idle": "2023-11-25T05:02:41.793603Z",
     "shell.execute_reply": "2023-11-25T05:02:41.792082Z",
     "shell.execute_reply.started": "2023-11-25T05:00:50.875687Z"
    },
    "tags": []
   },
   "outputs": [
    {
     "data": {
      "application/vnd.jupyter.widget-view+json": {
       "model_id": "9fdffcf156c145a89b86de19a3b61b42",
       "version_major": 2,
       "version_minor": 0
      },
      "text/plain": [
       "  0%|          | 0/2264 [00:00<?, ?it/s]"
      ]
     },
     "metadata": {},
     "output_type": "display_data"
    },
    {
     "data": {
      "application/vnd.jupyter.widget-view+json": {
       "model_id": "a711dc585c884218bd0cf14db4a82e62",
       "version_major": 2,
       "version_minor": 0
      },
      "text/plain": [
       "  0%|          | 0/564 [00:00<?, ?it/s]"
      ]
     },
     "metadata": {},
     "output_type": "display_data"
    }
   ],
   "source": [
    "train_logits_LaBSE, test_logits_LaBSE = get_logits('LaBSE-en-ru_checkpoint-6795_group_theme')"
   ]
  },
  {
   "cell_type": "code",
   "execution_count": 11,
   "id": "9fbf02e3-1971-4fcb-9a2c-2c5f6896f155",
   "metadata": {
    "execution": {
     "iopub.execute_input": "2023-11-25T05:02:41.796017Z",
     "iopub.status.busy": "2023-11-25T05:02:41.795190Z",
     "iopub.status.idle": "2023-11-25T05:04:29.454341Z",
     "shell.execute_reply": "2023-11-25T05:04:29.452957Z",
     "shell.execute_reply.started": "2023-11-25T05:02:41.795978Z"
    },
    "tags": []
   },
   "outputs": [
    {
     "data": {
      "application/vnd.jupyter.widget-view+json": {
       "model_id": "37ed031df15042e486102280450b1be9",
       "version_major": 2,
       "version_minor": 0
      },
      "text/plain": [
       "  0%|          | 0/2264 [00:00<?, ?it/s]"
      ]
     },
     "metadata": {},
     "output_type": "display_data"
    },
    {
     "data": {
      "application/vnd.jupyter.widget-view+json": {
       "model_id": "64afa876265a445fab52bad5f5ff6969",
       "version_major": 2,
       "version_minor": 0
      },
      "text/plain": [
       "  0%|          | 0/564 [00:00<?, ?it/s]"
      ]
     },
     "metadata": {},
     "output_type": "display_data"
    }
   ],
   "source": [
    "train_logits_LaBSE_theme, test_logits_LaBSE_theme = get_logits('LaBSE-er-ru_checkpoint-5500_theme')"
   ]
  },
  {
   "cell_type": "code",
   "execution_count": 12,
   "id": "c8f07733-617f-4411-bca1-3da2716cfc08",
   "metadata": {
    "execution": {
     "iopub.execute_input": "2023-11-25T05:04:29.456789Z",
     "iopub.status.busy": "2023-11-25T05:04:29.455845Z",
     "iopub.status.idle": "2023-11-25T05:06:17.075602Z",
     "shell.execute_reply": "2023-11-25T05:06:17.074169Z",
     "shell.execute_reply.started": "2023-11-25T05:04:29.456719Z"
    }
   },
   "outputs": [
    {
     "data": {
      "application/vnd.jupyter.widget-view+json": {
       "model_id": "34fcbb2f345c41cd8d51fd8c98a7e1a5",
       "version_major": 2,
       "version_minor": 0
      },
      "text/plain": [
       "  0%|          | 0/2264 [00:00<?, ?it/s]"
      ]
     },
     "metadata": {},
     "output_type": "display_data"
    },
    {
     "data": {
      "application/vnd.jupyter.widget-view+json": {
       "model_id": "572fca9f783d483cb5b4dde97aeded19",
       "version_major": 2,
       "version_minor": 0
      },
      "text/plain": [
       "  0%|          | 0/564 [00:00<?, ?it/s]"
      ]
     },
     "metadata": {},
     "output_type": "display_data"
    }
   ],
   "source": [
    "train_logits_LaBSE_executor, test_logits_LaBSE_executor = get_logits('cointegrated/LaBSE-en-ru_executor/checkpoint-1500')"
   ]
  },
  {
   "cell_type": "code",
   "execution_count": 13,
   "id": "d1bd2452cbc47276",
   "metadata": {
    "collapsed": false,
    "execution": {
     "iopub.execute_input": "2023-11-25T05:06:17.077773Z",
     "iopub.status.busy": "2023-11-25T05:06:17.076870Z",
     "iopub.status.idle": "2023-11-25T05:06:17.300238Z",
     "shell.execute_reply": "2023-11-25T05:06:17.299037Z",
     "shell.execute_reply.started": "2023-11-25T05:06:17.077725Z"
    },
    "jupyter": {
     "outputs_hidden": false
    },
    "tags": []
   },
   "outputs": [],
   "source": [
    "X_train_1 = pd.DataFrame({\n",
    "    'text': train_dataset['text'],\n",
    "    'logits': train_logits_LaBSE\n",
    "})\n",
    "\n",
    "X_test_1 = pd.DataFrame({\n",
    "    'text': test_dataset['text'],\n",
    "    'logits': test_logits_LaBSE\n",
    "})\n",
    "\n",
    "X_train_2 = pd.DataFrame({\n",
    "    'text': train_dataset['text'],\n",
    "    'logits': train_logits_LaBSE_theme\n",
    "})\n",
    "\n",
    "X_test_2 = pd.DataFrame({\n",
    "    'text': test_dataset['text'],\n",
    "    'logits': test_logits_LaBSE_theme\n",
    "})\n",
    "\n",
    "\n",
    "X_train_3 = pd.DataFrame({\n",
    "    'text': train_dataset['text'],\n",
    "    'logits': train_logits_LaBSE_executor\n",
    "})\n",
    "\n",
    "X_test_3 = pd.DataFrame({\n",
    "    'text': test_dataset['text'],\n",
    "    'logits': test_logits_LaBSE_executor\n",
    "})\n"
   ]
  },
  {
   "cell_type": "code",
   "execution_count": 14,
   "id": "b83c89929a989914",
   "metadata": {
    "execution": {
     "iopub.execute_input": "2023-11-25T05:06:17.302345Z",
     "iopub.status.busy": "2023-11-25T05:06:17.301449Z",
     "iopub.status.idle": "2023-11-25T05:06:51.435674Z",
     "shell.execute_reply": "2023-11-25T05:06:51.434508Z",
     "shell.execute_reply.started": "2023-11-25T05:06:17.302291Z"
    },
    "tags": []
   },
   "outputs": [
    {
     "name": "stderr",
     "output_type": "stream",
     "text": [
      "<ipython-input-14-f4c6122d71da>:10: UserWarning: Creating a tensor from a list of numpy.ndarrays is extremely slow. Please consider converting the list to a single numpy.ndarray with numpy.array() before converting to a tensor. (Triggered internally at ../torch/csrc/utils/tensor_new.cpp:245.)\n",
      "  softmax(torch.tensor(X_train_1.logits.to_list()), dim=1).numpy(),\n"
     ]
    }
   ],
   "source": [
    "from sklearn.feature_extraction.text import TfidfVectorizer\n",
    "from sklearn.linear_model import SGDClassifier\n",
    "from scipy.sparse import hstack as sparse_hstack\n",
    "from torch.nn.functional import softmax\n",
    "\n",
    "tfidf = TfidfVectorizer()\n",
    "tfidf_features = tfidf.fit_transform(X_train_1.text)\n",
    "\n",
    "combined_features = sparse_hstack([tfidf_features, \n",
    "                                   softmax(torch.tensor(X_train_1.logits.to_list()), dim=1).numpy(),\n",
    "                                   softmax(torch.tensor(X_train_2.logits.to_list()), dim=1).numpy(),\n",
    "                                   #softmax(torch.tensor(X_train_3.logits.to_list()), dim=1).numpy()\n",
    "                                  ])\n",
    "\n",
    "classifier = SGDClassifier(loss='modified_huber', random_state=42)\n",
    "classifier.fit(combined_features, y_train)\n",
    "\n",
    "import pickle\n",
    "with open('final_tf_idf.pkl', 'wb') as fout:\n",
    "    pickle.dump(tfidf, fout)\n",
    "    \n",
    "with open('final_model.pkl', 'wb') as fout:\n",
    "    pickle.dump(classifier, fout)"
   ]
  },
  {
   "cell_type": "code",
   "execution_count": 15,
   "id": "777745803bac2323",
   "metadata": {
    "collapsed": false,
    "execution": {
     "iopub.execute_input": "2023-11-25T05:06:51.438010Z",
     "iopub.status.busy": "2023-11-25T05:06:51.436984Z",
     "iopub.status.idle": "2023-11-25T05:06:52.119261Z",
     "shell.execute_reply": "2023-11-25T05:06:52.118098Z",
     "shell.execute_reply.started": "2023-11-25T05:06:51.437963Z"
    },
    "jupyter": {
     "outputs_hidden": false
    },
    "tags": []
   },
   "outputs": [],
   "source": [
    "tfidf_test = tfidf.transform(X_test_1.text)\n",
    "\n",
    "test_features = sparse_hstack([tfidf_test, \n",
    "                               softmax(torch.tensor(X_test_1.logits.to_list()), dim=1).numpy(),\n",
    "                               softmax(torch.tensor(X_test_2.logits.to_list()), dim=1).numpy(),\n",
    "                               #softmax(torch.tensor(X_test_3.logits.to_list()), dim=1).numpy(),\n",
    "                              ])\n",
    "y_pred = classifier.predict(test_features)\n"
   ]
  },
  {
   "cell_type": "code",
   "execution_count": 16,
   "id": "b4a445c237aa6bb0",
   "metadata": {
    "execution": {
     "iopub.execute_input": "2023-11-25T05:06:52.121433Z",
     "iopub.status.busy": "2023-11-25T05:06:52.120753Z",
     "iopub.status.idle": "2023-11-25T05:06:52.217502Z",
     "shell.execute_reply": "2023-11-25T05:06:52.216024Z",
     "shell.execute_reply.started": "2023-11-25T05:06:52.121393Z"
    },
    "tags": []
   },
   "outputs": [
    {
     "data": {
      "text/plain": [
       "0.5457579947389618"
      ]
     },
     "execution_count": 16,
     "metadata": {},
     "output_type": "execute_result"
    }
   ],
   "source": [
    "from sklearn.metrics import f1_score\n",
    "\n",
    "f1_score(y_test, y_pred, average='weighted')"
   ]
  },
  {
   "cell_type": "code",
   "execution_count": 17,
   "id": "145c17f9-f08c-439f-9010-cc2c40facbc3",
   "metadata": {
    "execution": {
     "iopub.execute_input": "2023-11-25T05:06:52.219621Z",
     "iopub.status.busy": "2023-11-25T05:06:52.218952Z",
     "iopub.status.idle": "2023-11-25T05:06:52.308760Z",
     "shell.execute_reply": "2023-11-25T05:06:52.307638Z",
     "shell.execute_reply.started": "2023-11-25T05:06:52.219569Z"
    },
    "tags": []
   },
   "outputs": [
    {
     "data": {
      "text/plain": [
       "0.5457579947389618"
      ]
     },
     "execution_count": 17,
     "metadata": {},
     "output_type": "execute_result"
    }
   ],
   "source": [
    "from sklearn.metrics import f1_score\n",
    "\n",
    "f1_score(y_test, y_pred, average='weighted')"
   ]
  },
  {
   "cell_type": "code",
   "execution_count": null,
   "id": "a894ae6d-6eb3-48b2-8dd9-b8be5be01d85",
   "metadata": {},
   "outputs": [],
   "source": []
  }
 ],
 "metadata": {
  "kernelspec": {
   "display_name": "DataSphere Kernel",
   "language": "python",
   "name": "python3"
  },
  "language_info": {
   "codemirror_mode": {
    "name": "ipython",
    "version": 3
   },
   "file_extension": ".py",
   "mimetype": "text/x-python",
   "name": "python",
   "nbconvert_exporter": "python",
   "pygments_lexer": "ipython3",
   "version": "3.7.7"
  }
 },
 "nbformat": 4,
 "nbformat_minor": 5
}
