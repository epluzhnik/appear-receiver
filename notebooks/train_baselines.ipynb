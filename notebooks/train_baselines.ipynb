{
 "cells": [
  {
   "cell_type": "code",
   "execution_count": null,
   "outputs": [],
   "source": [
    "import sklearn\n",
    "import numpy\n",
    "\n",
    "sklearn.__version__, numpy.__version__"
   ],
   "metadata": {
    "collapsed": false
   },
   "id": "896bf46fa0d3f591"
  },
  {
   "cell_type": "code",
   "execution_count": null,
   "outputs": [],
   "source": [
    "import pandas as pd\n",
    "\n",
    "dataset_df = pd.read_csv('preproc_dataset.csv')\n",
    "dataset_df"
   ],
   "metadata": {
    "collapsed": false
   },
   "id": "336d47cb03f7f988"
  },
  {
   "cell_type": "code",
   "execution_count": null,
   "outputs": [],
   "source": [
    "dataset_df.text = dataset_df.text.map(lambda x: x[:768])"
   ],
   "metadata": {
    "collapsed": false
   },
   "id": "b91bd29cbe543099"
  },
  {
   "cell_type": "markdown",
   "source": [
    "### Theme baseline"
   ],
   "metadata": {
    "collapsed": false
   },
   "id": "c4693599ff285202"
  },
  {
   "cell_type": "code",
   "execution_count": null,
   "outputs": [],
   "source": [
    "X_train = dataset_df[dataset_df.sample_type == 'train'].text\n",
    "X_test = dataset_df[dataset_df.sample_type == 'test'].text\n",
    "y_train = dataset_df[dataset_df.sample_type == 'train'].theme\n",
    "y_test = dataset_df[dataset_df.sample_type == 'test'].theme"
   ],
   "metadata": {
    "collapsed": false
   },
   "id": "baeb90384a187e38"
  },
  {
   "cell_type": "code",
   "execution_count": null,
   "outputs": [],
   "source": [
    "RANDOM_STATE = 42"
   ],
   "metadata": {
    "collapsed": false
   },
   "id": "f4410054ac065d9b"
  },
  {
   "cell_type": "code",
   "execution_count": null,
   "outputs": [],
   "source": [
    "from sklearn.pipeline import Pipeline\n",
    "from sklearn.feature_extraction.text import TfidfVectorizer\n",
    "from sklearn.linear_model import SGDClassifier\n",
    "\n",
    "theme_pipeline = Pipeline([\n",
    "    ('tfidf', TfidfVectorizer()),\n",
    "    ('classifier', SGDClassifier(loss='modified_huber', random_state=RANDOM_STATE))\n",
    "], verbose=True)"
   ],
   "metadata": {
    "collapsed": false
   },
   "id": "8cfe88fe56415e9c"
  },
  {
   "cell_type": "code",
   "execution_count": null,
   "outputs": [],
   "source": [
    "theme_pipeline.fit(X_train, y_train)"
   ],
   "metadata": {
    "collapsed": false
   },
   "id": "4fe434e4b3022225"
  },
  {
   "cell_type": "code",
   "execution_count": null,
   "outputs": [],
   "source": [
    "y_pred = theme_pipeline.predict(X_test)"
   ],
   "metadata": {
    "collapsed": false
   },
   "id": "c762a229e4e24f6c"
  },
  {
   "cell_type": "code",
   "execution_count": null,
   "outputs": [],
   "source": [
    "from sklearn.metrics import f1_score\n",
    "\n",
    "f1_score(y_test, y_pred, average='weighted')"
   ],
   "metadata": {
    "collapsed": false
   },
   "id": "25ea7597bcebc4a0"
  },
  {
   "cell_type": "code",
   "execution_count": null,
   "outputs": [],
   "source": [
    "import joblib\n",
    "\n",
    "joblib.dump(theme_pipeline, 'theme_tfidf_baseline.pt')"
   ],
   "metadata": {
    "collapsed": false
   },
   "id": "5623fb58e60f86d1"
  },
  {
   "cell_type": "markdown",
   "source": [
    "### Executor baseline"
   ],
   "metadata": {
    "collapsed": false
   },
   "id": "fc6dbda536d3fd01"
  },
  {
   "cell_type": "code",
   "execution_count": null,
   "outputs": [],
   "source": [
    "X_train = dataset_df[dataset_df.sample_type == 'train'].text\n",
    "X_test = dataset_df[dataset_df.sample_type == 'test'].text\n",
    "y_train = dataset_df[dataset_df.sample_type == 'train'].executor\n",
    "y_test = dataset_df[dataset_df.sample_type == 'test'].executor"
   ],
   "metadata": {
    "collapsed": false
   },
   "id": "6c413d8a08f49b4a"
  },
  {
   "cell_type": "code",
   "execution_count": null,
   "outputs": [],
   "source": [
    "from sklearn.pipeline import Pipeline\n",
    "from sklearn.feature_extraction.text import TfidfVectorizer\n",
    "from sklearn.linear_model import SGDClassifier\n",
    "\n",
    "executor_pipeline = Pipeline([\n",
    "    ('tfidf', TfidfVectorizer()),\n",
    "    ('classifier', SGDClassifier(loss='modified_huber', random_state=RANDOM_STATE))\n",
    "], verbose=True)"
   ],
   "metadata": {
    "collapsed": false
   },
   "id": "69f90338b0655990"
  },
  {
   "cell_type": "code",
   "execution_count": null,
   "outputs": [],
   "source": [
    "executor_pipeline.fit(X_train, y_train)"
   ],
   "metadata": {
    "collapsed": false
   },
   "id": "5cb7b1ab77af62e4"
  },
  {
   "cell_type": "code",
   "execution_count": null,
   "outputs": [],
   "source": [
    "y_pred = executor_pipeline.predict(X_test)"
   ],
   "metadata": {
    "collapsed": false
   },
   "id": "3303d1c75b3ccc4a"
  },
  {
   "cell_type": "code",
   "execution_count": null,
   "outputs": [],
   "source": [
    "from sklearn.metrics import f1_score\n",
    "\n",
    "f1_score(y_test, y_pred, average='weighted')"
   ],
   "metadata": {
    "collapsed": false
   },
   "id": "9e120e8fd5cd9d4b"
  },
  {
   "cell_type": "code",
   "execution_count": null,
   "outputs": [],
   "source": [
    "import joblib\n",
    "\n",
    "joblib.dump(executor_pipeline, 'executor_tfidf_baseline.pt')"
   ],
   "metadata": {
    "collapsed": false
   },
   "id": "cd52cc334125a5d3"
  },
  {
   "cell_type": "code",
   "execution_count": null,
   "outputs": [],
   "source": [],
   "metadata": {
    "collapsed": false
   },
   "id": "935ccbec4ef85cb7"
  }
 ],
 "metadata": {
  "kernelspec": {
   "display_name": "Python 3",
   "language": "python",
   "name": "python3"
  },
  "language_info": {
   "codemirror_mode": {
    "name": "ipython",
    "version": 2
   },
   "file_extension": ".py",
   "mimetype": "text/x-python",
   "name": "python",
   "nbconvert_exporter": "python",
   "pygments_lexer": "ipython2",
   "version": "2.7.6"
  }
 },
 "nbformat": 4,
 "nbformat_minor": 5
}
